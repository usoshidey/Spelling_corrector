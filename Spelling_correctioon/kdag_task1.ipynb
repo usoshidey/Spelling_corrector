{
 "cells": [
  {
   "cell_type": "markdown",
   "id": "84d32999-4155-40ba-8ec2-26ca8542370f",
   "metadata": {},
   "source": [
    " We import matplotlib.pyplot for creating the bar chart."
   ]
  },
  {
   "cell_type": "code",
   "execution_count": 1,
   "id": "c3dd7111-a3db-431f-b090-8b60949f6e07",
   "metadata": {},
   "outputs": [],
   "source": [
    "import matplotlib.pyplot as plt"
   ]
  },
  {
   "cell_type": "markdown",
   "id": "cde2ca96-a6a4-431c-9dd1-07a40646db63",
   "metadata": {},
   "source": [
    "We import pandas to read data from excel sheet"
   ]
  },
  {
   "cell_type": "code",
   "execution_count": 2,
   "id": "5a0aa944-e8b1-422b-9d99-7d55a00e81f2",
   "metadata": {},
   "outputs": [],
   "source": [
    "import pandas as pd"
   ]
  },
  {
   "cell_type": "code",
   "execution_count": 3,
   "id": "30f38e80-90cc-420d-87d4-d960094bbb27",
   "metadata": {},
   "outputs": [],
   "source": [
    "careerOptions = [\n",
    "    \"Doctor\", \"Lawyer\", \"Teacher\", \"Engineer\", \"Accountant\",\n",
    "    \"Nurse\", \"Police\", \"Architect\", \"Dentist\", \"Pharmacist\"\n",
    "]"
   ]
  },
  {
   "cell_type": "markdown",
   "id": "849e0f62-4402-4373-b2ab-ba1791875915",
   "metadata": {},
   "source": [
    "We creat a list of correct career options that we will use to match with given data and correct the student responses."
   ]
  },
  {
   "cell_type": "markdown",
   "id": "bcd757bd-54e8-442d-87dc-88ff7e274f65",
   "metadata": {},
   "source": [
    "   The Levenshtein distance between two given strings is the minimum number of single-character changes(insertions, deletions, or substitutions) required to change one string into the other.\n",
    "   \n",
    "   The function levenshtein_distance(x, y) takes two strings x and y. If x is shorter than y, we swap them to ensure x is the longer string to iterate over the shorter string.\n",
    "   \n",
    "   If one string is empty, the distance is simply the length of the other string (all characters need to be inserted or deleted).\n",
    "   \n",
    "   We initialize a matrix of size (len(x) + 1) x (len(y) + 1) where the first row and the first column represent transforming the x and y to or from an empty string. We initialize previousRow to be a range from 0 to len(y) + 1.\n",
    "   \n",
    "   For calculation we need a nested loop.\n",
    "    In the outer loop we iterate over each character c1 in x. Each charecter c1 of x creat a new row of the matrix. For each character c1, we create a new list currRow starting with the value i + 1, where i is the index of c1. This represents the cost of deleting all characters up to c1 to match an empty string.\n",
    "    \n",
    "Under every character c1 of x there is a inner loop that iterate over each character c2 in y along the column of the matrix. In each iteration of inner loop we calculate how many minimum changes required to change the segment of the string y upto the recent character of c2 to the segment of the string x upto the recent character c1 by insertions, deletions, and substitutions. For insertion we need to insert a character so we will add +1 with prevRow[j + 1], for deletion we have to delete the last character c2 so we will add +1 with currRow[j]. For substitution if the recent character of both the string is same then we don't need to do any changes so we will not add +1 with prevRow[j]  otherwise we need to substitute the c2 to c1 so we will add an extre +1 with prevRow[j].\n",
    "    \n",
    "We calculate the cost of insertions, deletions, and substitutions and we append the minimum of these costs to currRow and move on to the next column by updating the c2 to next char of y and length of the segment y will increase by 1. After the complete iteration we update prevRow to be currRow and move to the next row by updating the c1 to next char of x and the length of the segment will increase by 1. \n",
    "    \n",
    "The Levenshtein distance is found at the bottom-right corner of the matrix and the function will return this value."
   ]
  },
  {
   "cell_type": "code",
   "execution_count": 4,
   "id": "741d192c-aa89-4779-8544-60d180a6754c",
   "metadata": {},
   "outputs": [],
   "source": [
    "def levenshtein_distance(x, y):\n",
    "    if len(x) < len(y):\n",
    "        return levenshtein_distance(y, x)\n",
    "    \n",
    "    if len(y) == 0:\n",
    "        return len(x)\n",
    "    \n",
    "    prevRow = range(len(y) + 1)\n",
    "    for i, c1 in enumerate(x):\n",
    "        currRow = [i + 1]\n",
    "        for j, c2 in enumerate(y):\n",
    "            insertions = prevRow[j + 1] + 1\n",
    "            deletions = currRow[j] + 1\n",
    "            substitutions = prevRow[j] + (c1 != c2)\n",
    "            currRow.append(min(insertions, deletions, substitutions))\n",
    "        prevRow = currRow\n",
    "    \n",
    "    return prevRow[-1]\n"
   ]
  },
  {
   "cell_type": "raw",
   "id": "a7757764-3deb-40b0-8c29-4bdc771e6f28",
   "metadata": {
    "vscode": {
     "languageId": "raw"
    }
   },
   "source": [
    " let's use two different strings x =  \"sunday\" and y = \"saturday\" for the Levenshtein distance example. Initialize the first row and the first column with incremental values starting from 0 upto the length of the string +1.\n",
    "     s  a  t  u  r  d  a  y\n",
    "   0 1  2  3  4  5  6  7  8\n",
    "s  1\n",
    "u  2\n",
    "n  3\n",
    "d  4\n",
    "a  5\n",
    "y  6\n",
    "\n",
    "The nested loops fill in the matrix based on the minimum cost of the three operations (deletion, insertion, substitution).\n",
    "\n",
    "     s  a  t  u  r  d  a  y\n",
    "   0 1  2  3  4  5  6  7  8\n",
    "s  1 0  1  2  3  4  5  6  7\n",
    "u  2 1  1  1  2  3  4  5  6\n",
    "n  3 2  2  2  1  2  3  4  5\n",
    "d  4 3  3  3  2  1  2  3  4\n",
    "a  5 4  3  4  3  2  1  2  3\n",
    "y  6 5  4  4  4  3  2  2  2\n",
    "\n",
    "The Levenshtein distance is 2. "
   ]
  },
  {
   "cell_type": "code",
   "execution_count": 5,
   "id": "2114c1b8-49f9-4710-b412-a8026417f3bc",
   "metadata": {},
   "outputs": [],
   "source": [
    "def correctSpelling(responses):\n",
    "    correctedResponses = []\n",
    "    for response in responses:\n",
    "        distances = [levenshtein_distance(response.lower(), option.lower()) for option in careerOptions]\n",
    "        minDistance = min(distances)\n",
    "        correctedResponses.append(careerOptions[distances.index(minDistance)])\n",
    "    return correctedResponses\n"
   ]
  },
  {
   "cell_type": "markdown",
   "id": "40f060b3-3c64-4c2a-a493-8d00f6a88064",
   "metadata": {},
   "source": [
    "This function takes a list of student responses and for every element in the list of students responses we check them with each career options and calculate the Levenshtein distance. Then find out the career option which has minimum distance with that students response. And then creates a list where we append that corrected career option."
   ]
  },
  {
   "cell_type": "code",
   "execution_count": 6,
   "id": "d1d697c8-53ed-422f-9179-42b3925a9766",
   "metadata": {},
   "outputs": [],
   "source": [
    "df= pd.read_excel(\"TaskData.xlsx\", header=None)\n",
    "studentResponses = df.iloc[:, 0].tolist()"
   ]
  },
  {
   "cell_type": "markdown",
   "id": "7baaefd2-e446-49ac-b18a-5a0d7d35d242",
   "metadata": {},
   "source": [
    "Using pandas library functions we are reading the data form the TaskData.xlsx and store it in the variable df. now another function is used to \n",
    "access the first column of the tabular data inside df to a list of data that gives us career responses given by students given in the task sheet.\n",
    "It is now stored inside a list studentResponses."
   ]
  },
  {
   "cell_type": "code",
   "execution_count": 7,
   "id": "826f0e8b-b3cf-496a-b4eb-f7049dfcb1b3",
   "metadata": {},
   "outputs": [],
   "source": [
    "correctedResponses = correctSpelling(studentResponses)"
   ]
  },
  {
   "cell_type": "markdown",
   "id": "f877f653-8059-40f4-8320-6425f648aef3",
   "metadata": {},
   "source": [
    "correctSpelling is a function which correct wrongly spelled input in the given data set which is stored in a list studentResponses and after correction stored in a new list correctedResponses"
   ]
  },
  {
   "cell_type": "code",
   "execution_count": 8,
   "id": "f7697f7a-e921-48b1-993f-00bfb3ded07c",
   "metadata": {},
   "outputs": [],
   "source": [
    "careerCounts = {career: correctedResponses.count(career) for career in careerOptions}\n"
   ]
  },
  {
   "cell_type": "markdown",
   "id": "a8c35129-5bcd-4a38-a9cd-8145429f97ba",
   "metadata": {},
   "source": [
    " We create a dictionary careerCounts to count frequency of each corrected career option appears in the list of responses."
   ]
  },
  {
   "cell_type": "markdown",
   "id": "c40dfe6e-faf9-49fa-b5c3-ba7fa3ecc3c7",
   "metadata": {},
   "source": [
    "We use matplotlib to create a bar chart:\n",
    "  - plt.figure(figsize=(10, 6)): Sets the size of the figure.\n",
    "  - plt.bar(careerCounts.keys(), careerCounts.values(), color='green'): Creates the bar chart with the career options on the x-axis and their frequencies on the y-axis.\n",
    "  - plt.xlabel, plt.ylabel, plt.title: Label the axes and the chart.\n",
    "  - plt.xticks(rotation=45): Rotates the x-axis labels for better readability.\n",
    "  - plt.show(): Displays the chart."
   ]
  },
  {
   "cell_type": "code",
   "execution_count": 9,
   "id": "7b2d3373-6750-4ec9-a945-afc3c46f55a8",
   "metadata": {},
   "outputs": [
    {
     "data": {
      "image/png": "[encoded data removed]",
      "text/plain": [
       "<Figure size 800x600 with 1 Axes>"
      ]
     },
     "metadata": {},
     "output_type": "display_data"
    }
   ],
   "source": [
    "plt.figure(figsize=(8, 6))\n",
    "plt.bar(careerCounts.keys(), careerCounts.values(), color='green')\n",
    "plt.xlabel('Career Options')\n",
    "plt.ylabel('Number of Students')\n",
    "plt.title('Students\\' Career Aspirations')\n",
    "plt.xticks(rotation=45)\n",
    "plt.show()"
   ]
  }
 ],
 "metadata": {
  "kernelspec": {
   "display_name": "Python 3 (ipykernel)",
   "language": "python",
   "name": "python3"
  },
  "language_info": {
   "codemirror_mode": {
    "name": "ipython",
    "version": 3
   },
   "file_extension": ".py",
   "mimetype": "text/x-python",
   "name": "python",
   "nbconvert_exporter": "python",
   "pygments_lexer": "ipython3",
   "version": "3.12.3"
  }
 },
 "nbformat": 4,
 "nbformat_minor": 5
}
